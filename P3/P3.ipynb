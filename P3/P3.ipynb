{
 "cells": [
  {
   "attachments": {},
   "cell_type": "markdown",
   "metadata": {},
   "source": [
    "**##JUAN JOSÉ BEDOYA CHAVARRÍA**\n",
    "\n",
    "# Situación:\n",
    "\n",
    "El siguiente Script extrae algunos datos básicos de los servidores controladores de dominio, sin embargo, cuando se revisa el archivo generado, solo se visualizan los datos del ultimo controlador de dominio, pero no se ven datos de los controladores adicionales. Que se debería corregir en el script para que se mostraran todos los datos?\n",
    "\n",
    "<img src=\"P3.jpg\">"
   ]
  },
  {
   "attachments": {},
   "cell_type": "markdown",
   "metadata": {},
   "source": [
    "La variable $resultado que esta en la última línea del código debería estar dentro del foreach principal, para que se vayan cargando y agregando cada uno de los servidores, y cuando finaliza la iteración de todos los servidores el archivo exportado contará con toda información."
   ]
  }
 ],
 "metadata": {
  "kernelspec": {
   "display_name": "Python 3",
   "language": "python",
   "name": "python3"
  },
  "language_info": {
   "codemirror_mode": {
    "name": "ipython",
    "version": 3
   },
   "file_extension": ".py",
   "mimetype": "text/x-python",
   "name": "python",
   "nbconvert_exporter": "python",
   "pygments_lexer": "ipython3",
   "version": "3.10.9 (tags/v3.10.9:1dd9be6, Dec  6 2022, 20:01:21) [MSC v.1934 64 bit (AMD64)]"
  },
  "orig_nbformat": 4,
  "vscode": {
   "interpreter": {
    "hash": "369a72eb63b727d22718143f8c79057c0fb6e314a59b2dabbadce4e3e34dcd1a"
   }
  }
 },
 "nbformat": 4,
 "nbformat_minor": 2
}
