{
 "cells": [
  {
   "attachments": {},
   "cell_type": "markdown",
   "metadata": {},
   "source": [
    "**##JUAN JOSÉ BEDOYA CHAVARRÍA**\n",
    "\n",
    "# Situación:\n",
    "\n",
    "Proponga un script en Powershell o Python que permita inspeccionar todos los servidores Windows Server 2016 de un dominio en búsqueda de las tareas programadas que se ejecutan con el usuario \"virus01\".\n",
    "\n",
    "Nota: Los servidores que serán inspeccionados no poseen ningún componente de python instalado."
   ]
  },
  {
   "cell_type": "code",
   "execution_count": null,
   "metadata": {},
   "outputs": [],
   "source": [
    "# Importar la biblioteca de pywinrm\n",
    "import winrm\n",
    "\n",
    "# Establecer las credenciales de autenticación\n",
    "username = \"Username\"\n",
    "password = \"Password\"\n",
    "\n",
    "# Establecer el endpoint de WinRM para cada servidor\n",
    "endpoint = \"http://{}:5985/wsman\"\n",
    "\n",
    "# Obtener la lista de servidores Windows Server 2016 del dominio\n",
    "servers = [\"server1\", \"server2\", \"server3\"]\n",
    "\n",
    "# Iterar sobre cada servidor\n",
    "for server in servers:\n",
    "  # Conectarse al servidor remoto\n",
    "  session = winrm.Session(endpoint.format(server), auth=(username, password))\n",
    "\n",
    "  # Ejecutar el comando \"Get-ScheduledTask\" en el servidor remoto\n",
    "  result = session.run_cmd(\"Get-ScheduledTask | Where-Object {$_.TaskRunAsUser -Like '*virus01*'}\")\n",
    "\n",
    "  # Mostrar el resultado del comando\n",
    "  print(result.std_out)"
   ]
  },
  {
   "attachments": {},
   "cell_type": "markdown",
   "metadata": {},
   "source": [
    "En este script se utiliza la biblioteca de pywinrm para conectarse a los servidores remotos y ejecutar comandos en ellos. Se supone que ya se tiene la lista de servidores Windows Server 2016 del dominio y que se han establecido las credenciales de autenticación y el endpoint de WinRM para cada servidor."
   ]
  }
 ],
 "metadata": {
  "kernelspec": {
   "display_name": "Python 3",
   "language": "python",
   "name": "python3"
  },
  "language_info": {
   "codemirror_mode": {
    "name": "ipython",
    "version": 3
   },
   "file_extension": ".py",
   "mimetype": "text/x-python",
   "name": "python",
   "nbconvert_exporter": "python",
   "pygments_lexer": "ipython3",
   "version": "3.10.9 (tags/v3.10.9:1dd9be6, Dec  6 2022, 20:01:21) [MSC v.1934 64 bit (AMD64)]"
  },
  "orig_nbformat": 4,
  "vscode": {
   "interpreter": {
    "hash": "369a72eb63b727d22718143f8c79057c0fb6e314a59b2dabbadce4e3e34dcd1a"
   }
  }
 },
 "nbformat": 4,
 "nbformat_minor": 2
}
