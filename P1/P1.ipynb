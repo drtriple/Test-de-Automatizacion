{
 "cells": [
  {
   "attachments": {},
   "cell_type": "markdown",
   "metadata": {},
   "source": [
    "**##JUAN JOSÉ BEDOYA CHAVARRÍA**\n",
    "\n",
    "# Situación:\n",
    "\n",
    "Utilizando el conocimiento que tiene en Python cree un procedimiento automatizado que permita cargar los datos que se encuentran en el archivo: Archivo de Productos al formulario disponible en este enlace: Formulario. Finalmente pegue en esta pregunta el código utilizado para lograr lo solicitad."
   ]
  },
  {
   "cell_type": "code",
   "execution_count": null,
   "metadata": {},
   "outputs": [],
   "source": [
    "#enconding: utf-8\n",
    "from selenium import webdriver\n",
    "from selenium.webdriver.common.keys import Keys\n",
    "from selenium.webdriver.support import expected_conditions as EC\n",
    "from selenium.webdriver.common.by import By\n",
    "from selenium.webdriver. support.ui import WebDriverWait\n",
    "from openpyxl import load_workbook\n",
    "import time\n",
    "\n",
    "\n",
    "driver = webdriver.Chrome(\"./D:\\Datos\\Desktop\\BANCOLOMBIA PRUEBAS\\Test de Conocimiento en Automatización\\P1\\chromedriver.exe\")\n",
    "driver.get(\"https://docs.google.com/forms/d/e/1FAIpQLSd8pYrym78Am_OtC7TeJ7igtixsW7eZPbRCAM6vbii3nS-0cA/viewform\")\n",
    "time.sleep(3)\n",
    "\n",
    "#inputs = driver.find_elements_by_class_name(\"whsOnd\")\n",
    "#time.sleep(1)\n",
    "\n",
    "filesheet = \"./DatosPruebaPy.xlsx\"\n",
    "wb = load_workbook(filesheet)\n",
    "hojas = wb.get_sheet_names()\n",
    "print(hojas)\n",
    "valores = wb.get_sheet_by_name('DatosPruebaPy')\n",
    "wb.close()\n",
    "\n",
    "for i in range(2,1001):\n",
    "    identificador, Producto, Vendedor, Cantidad, Ubicacion, Categoria, PGanancia  = valores[f'A{i}:G{i}'][0]\n",
    "    print(identificador.value, Producto.value, Vendedor.value, Cantidad.value, Ubicacion.value, Categoria.value, PGanancia.value)\n",
    "    time.sleep(1)\n",
    "\n",
    "    ## Nombre el Aspirante*\n",
    "    driver.find_element('xpath','//*[@id=\"mG61Hd\"]/div[2]/div/div[2]/div[1]/div/div/div[2]/div/div[1]/div/div[1]/input').send_keys(\"Juan José Bedoya\")\n",
    "    ## Identificador\n",
    "    driver.find_element('xpath','//*[@id=\"mG61Hd\"]/div[2]/div/div[2]/div[2]/div/div/div[2]/div/div[1]/div/div[1]/input').send_keys(identificador.value)\n",
    "    ## Producto\n",
    "    driver.find_element('xpath','//*[@id=\"mG61Hd\"]/div[2]/div/div[2]/div[3]/div/div/div[2]/div/div[1]/div/div[1]/input').send_keys(Producto.value)\n",
    "   ## Vendedor\n",
    "    driver.find_element('xpath','//*[@id=\"mG61Hd\"]/div[2]/div/div[2]/div[4]/div/div/div[2]/div/div[1]/div/div[1]/input').send_keys(Vendedor.value)\n",
    "    ## Cantidad\n",
    "    driver.find_element('xpath','//*[@id=\"mG61Hd\"]/div[2]/div/div[2]/div[5]/div/div/div[2]/div/div[1]/div/div[1]/input').send_keys(Cantidad.value)\n",
    "    ## Ubicación\n",
    "    driver.find_element('xpath','//*[@id=\"mG61Hd\"]/div[2]/div/div[2]/div[6]/div/div/div[2]/div/div[1]/div/div[1]/input').send_keys(Ubicacion.value)\n",
    "   ## Categoria\n",
    "    driver.find_element('xpath','//*[@id=\"mG61Hd\"]/div[2]/div/div[2]/div[7]/div/div/div[2]/div/div[1]/div/div[1]/input').send_keys(Categoria.value)\n",
    "    if PGanancia.value == None:\n",
    "        PGanancia.value = \"0\"    \n",
    "        ## Porcentaje de Ganancia\n",
    "        driver.find_element('xpath','//*[@id=\"mG61Hd\"]/div[2]/div/div[2]/div[8]/div/div/div[2]/div/div[1]/div/div[1]/input').send_keys(PGanancia.value)\n",
    "    else:\n",
    "        driver.find_element('xpath','//*[@id=\"mG61Hd\"]/div[2]/div/div[2]/div[8]/div/div/div[2]/div/div[1]/div/div[1]/input').send_keys(PGanancia.value)             \n",
    "    \n",
    "    ## enviar encuesta\n",
    "    driver.find_element('xpath', '//*[@id=\"mG61Hd\"]/div[2]/div/div[3]/div[1]/div[1]/div/span/span').click()\n",
    "    ##ENVIAR OTRO REGISTRO\n",
    "    another_response = driver.find_element('xpath','/html/body/div[1]/div[2]/div[1]/div/div[4]/a')\n",
    "\n",
    "    another_response.click()\n",
    "    # CERRAR VENTANA\n",
    "driver.close()"
   ]
  }
 ],
 "metadata": {
  "kernelspec": {
   "display_name": "Python 3",
   "language": "python",
   "name": "python3"
  },
  "language_info": {
   "codemirror_mode": {
    "name": "ipython",
    "version": 3
   },
   "file_extension": ".py",
   "mimetype": "text/x-python",
   "name": "python",
   "nbconvert_exporter": "python",
   "pygments_lexer": "ipython3",
   "version": "3.10.9 (tags/v3.10.9:1dd9be6, Dec  6 2022, 20:01:21) [MSC v.1934 64 bit (AMD64)]"
  },
  "orig_nbformat": 4,
  "vscode": {
   "interpreter": {
    "hash": "369a72eb63b727d22718143f8c79057c0fb6e314a59b2dabbadce4e3e34dcd1a"
   }
  }
 },
 "nbformat": 4,
 "nbformat_minor": 2
}
